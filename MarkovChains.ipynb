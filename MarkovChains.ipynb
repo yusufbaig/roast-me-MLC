{
 "cells": [
  {
   "attachments": {},
   "cell_type": "markdown",
   "metadata": {},
   "source": [
    "![image.png](https://a.thumbs.redditmedia.com/VHAsVfe-7uv-O_gcAwS9G0jE8o5r10YMadgzhf2GrK8.png)\n",
    "\n",
    "# Roast Me Generator\n",
    "\n",
    "A simple markov model implimented in python using [markovify](https://github.com/jsvine/markovify) and scaped reddit comments from [r/RoastMe](http://reddit.com/r/roastme).\n",
    "\n",
    "### Tools:\n",
    "- **Markovify**\n",
    "    - Markov model implimentation\n",
    "    - Weighted comments by number of upvotes\n",
    "- **Pandas**\n",
    "    - Data manipulation"
   ]
  },
  {
   "cell_type": "code",
   "execution_count": 101,
   "metadata": {
    "collapsed": true
   },
   "outputs": [],
   "source": [
    "import markovify\n",
    "import pandas as pd\n",
    "\n",
    "# Import dataset\n",
    "file = pd.read_csv('comments.csv',sep='|')\n",
    "df = pd.DataFrame(file)"
   ]
  },
  {
   "cell_type": "markdown",
   "metadata": {},
   "source": [
    "Each row on the dataset represents one comment on a reddit post. The dataset contains 247258 different comments that were on the \"top\" of r/RoastMe during the spring of 2017."
   ]
  },
  {
   "cell_type": "code",
   "execution_count": 105,
   "metadata": {},
   "outputs": [
    {
     "data": {
      "text/html": [
       "<div>\n",
       "<style>\n",
       "    .dataframe thead tr:only-child th {\n",
       "        text-align: right;\n",
       "    }\n",
       "\n",
       "    .dataframe thead th {\n",
       "        text-align: left;\n",
       "    }\n",
       "\n",
       "    .dataframe tbody tr th {\n",
       "        vertical-align: top;\n",
       "    }\n",
       "</style>\n",
       "<table border=\"1\" class=\"dataframe\">\n",
       "  <thead>\n",
       "    <tr style=\"text-align: right;\">\n",
       "      <th></th>\n",
       "      <th>sub_id</th>\n",
       "      <th>sub_title</th>\n",
       "      <th>img_link</th>\n",
       "      <th>comment_score</th>\n",
       "      <th>comment_body</th>\n",
       "      <th>blankk</th>\n",
       "    </tr>\n",
       "  </thead>\n",
       "  <tbody>\n",
       "    <tr>\n",
       "      <th>0</th>\n",
       "      <td>5nkbyc</td>\n",
       "      <td>We are hhproductions professional complainers ...</td>\n",
       "      <td>https://i.redd.it/78ckh6a43b9y.jpg</td>\n",
       "      <td>1</td>\n",
       "      <td>You are required to make a video on YouTube in...</td>\n",
       "      <td>NaN</td>\n",
       "    </tr>\n",
       "    <tr>\n",
       "      <th>1</th>\n",
       "      <td>5nkbyc</td>\n",
       "      <td>We are hhproductions professional complainers ...</td>\n",
       "      <td>https://i.redd.it/78ckh6a43b9y.jpg</td>\n",
       "      <td>36500</td>\n",
       "      <td>Your relationship is stable because thats wher...</td>\n",
       "      <td>NaN</td>\n",
       "    </tr>\n",
       "    <tr>\n",
       "      <th>2</th>\n",
       "      <td>5nkbyc</td>\n",
       "      <td>We are hhproductions professional complainers ...</td>\n",
       "      <td>https://i.redd.it/78ckh6a43b9y.jpg</td>\n",
       "      <td>16306</td>\n",
       "      <td>I turn on adblock for your videos   Edit thank...</td>\n",
       "      <td>NaN</td>\n",
       "    </tr>\n",
       "    <tr>\n",
       "      <th>3</th>\n",
       "      <td>5nkbyc</td>\n",
       "      <td>We are hhproductions professional complainers ...</td>\n",
       "      <td>https://i.redd.it/78ckh6a43b9y.jpg</td>\n",
       "      <td>16154</td>\n",
       "      <td>I thought roasting a couple Jews went out of s...</td>\n",
       "      <td>NaN</td>\n",
       "    </tr>\n",
       "    <tr>\n",
       "      <th>4</th>\n",
       "      <td>5nkbyc</td>\n",
       "      <td>We are hhproductions professional complainers ...</td>\n",
       "      <td>https://i.redd.it/78ckh6a43b9y.jpg</td>\n",
       "      <td>13846</td>\n",
       "      <td>The only reason youre posting here is for a vi...</td>\n",
       "      <td>NaN</td>\n",
       "    </tr>\n",
       "  </tbody>\n",
       "</table>\n",
       "</div>"
      ],
      "text/plain": [
       "   sub_id                                          sub_title  \\\n",
       "0  5nkbyc  We are hhproductions professional complainers ...   \n",
       "1  5nkbyc  We are hhproductions professional complainers ...   \n",
       "2  5nkbyc  We are hhproductions professional complainers ...   \n",
       "3  5nkbyc  We are hhproductions professional complainers ...   \n",
       "4  5nkbyc  We are hhproductions professional complainers ...   \n",
       "\n",
       "                             img_link  comment_score  \\\n",
       "0  https://i.redd.it/78ckh6a43b9y.jpg              1   \n",
       "1  https://i.redd.it/78ckh6a43b9y.jpg          36500   \n",
       "2  https://i.redd.it/78ckh6a43b9y.jpg          16306   \n",
       "3  https://i.redd.it/78ckh6a43b9y.jpg          16154   \n",
       "4  https://i.redd.it/78ckh6a43b9y.jpg          13846   \n",
       "\n",
       "                                        comment_body  blankk  \n",
       "0  You are required to make a video on YouTube in...     NaN  \n",
       "1  Your relationship is stable because thats wher...     NaN  \n",
       "2  I turn on adblock for your videos   Edit thank...     NaN  \n",
       "3  I thought roasting a couple Jews went out of s...     NaN  \n",
       "4  The only reason youre posting here is for a vi...     NaN  "
      ]
     },
     "execution_count": 105,
     "metadata": {},
     "output_type": "execute_result"
    }
   ],
   "source": [
    "df.head()"
   ]
  },
  {
   "cell_type": "markdown",
   "metadata": {},
   "source": [
    "## Markovify Dataset\n",
    "Some comments were incorrectly formatted, so we just excluded them from our model. "
   ]
  },
  {
   "cell_type": "code",
   "execution_count": 106,
   "metadata": {
    "scrolled": true
   },
   "outputs": [
    {
     "name": "stdout",
     "output_type": "stream",
     "text": [
      "Number of comments: 246599\n",
      "Number of invalid comments: 659\n"
     ]
    }
   ],
   "source": [
    "model_list = []\n",
    "score_weights = []\n",
    "invalid_comment_count = 0\n",
    "\n",
    "# Iterate through dataset and add elements to a model\n",
    "for i in range(0,len(df['comment_body'])):\n",
    "    try:\n",
    "        # Make sure the comment body is a string\n",
    "        if type(df['comment_body'][i]) != 'str': \n",
    "            # Add both the comment text and scores to lists\n",
    "            model_list.append(markovify.Text(df['comment_body'][i], state_size=3))\n",
    "            score_weights.append(df['comment_score'][i]) \n",
    "    except:\n",
    "        # If comments are invalid they will throw an exception\n",
    "        invalid_comment_count += 1\n",
    "\n",
    "print('Number of comments: ' + str(len(score_weights)))\n",
    "print('Number of invalid comments: ' + str(invalid_comment_count))"
   ]
  },
  {
   "cell_type": "markdown",
   "metadata": {},
   "source": [
    "## Add score weights to model "
   ]
  },
  {
   "cell_type": "code",
   "execution_count": 10,
   "metadata": {
    "collapsed": true
   },
   "outputs": [],
   "source": [
    "model_combo = markovify.combine(model_list,score_weights)"
   ]
  },
  {
   "cell_type": "markdown",
   "metadata": {},
   "source": [
    "## Results"
   ]
  },
  {
   "cell_type": "code",
   "execution_count": 100,
   "metadata": {},
   "outputs": [
    {
     "data": {
      "text/plain": [
       "'Gravy is not a conditioner'"
      ]
     },
     "execution_count": 100,
     "metadata": {},
     "output_type": "execute_result"
    }
   ],
   "source": [
    "model_combo.make_short_sentence(100)"
   ]
  },
  {
   "cell_type": "markdown",
   "metadata": {
    "collapsed": true
   },
   "source": [
    "**'First off cut your hair you look remarkably like John Travolta'**\n",
    "\n",
    "**'Someone has been lying to you to spare your feelings'**\n",
    "\n",
    "**'Gravy is not a conditioner'**"
   ]
  },
  {
   "cell_type": "markdown",
   "metadata": {},
   "source": [
    "# Cool Markdown Stuff\n",
    "\n",
    "Some of the examples came from [here](http://www.unexpected-vortices.com/sw/rippledoc/quick-markdown-example.html)\n",
    "\n",
    "### Gifs\n",
    "![gif.gif](https://media.giphy.com/media/wpBCnSSBCbh3q/giphy.gif)\n",
    "\n",
    "### Math\n",
    "$$I = \\int \\rho R^{2} dV$$\n",
    "\n",
    "### Block quotes\n",
    "> WOW!\n",
    ">\n",
    "> They can span multiple paragraphs,\n",
    "\n",
    "### Lists\n",
    "Here's a numbered list:\n",
    "\n",
    " 1. first item\n",
    " 2. second item\n",
    " 3. third item\n",
    "\n",
    "### Bullets\n",
    "\n",
    "- Woah\n",
    "- Wow\n",
    "- Wowza\n",
    "\n",
    "# Matplotlib\n",
    "\n",
    "Graphs displayed beside code"
   ]
  },
  {
   "cell_type": "code",
   "execution_count": 113,
   "metadata": {},
   "outputs": [
    {
     "data": {
      "image/png": "[encoded data removed]",
      "text/plain": [
       "<matplotlib.figure.Figure at 0x217d87c1278>"
      ]
     },
     "metadata": {},
     "output_type": "display_data"
    }
   ],
   "source": [
    "%matplotlib inline\n",
    "import matplotlib.pyplot as plt\n",
    "import numpy as np\n",
    "\n",
    "t = np.arange(0.0, 2.0, 0.01)\n",
    "s = 1 + np.sin(2*np.pi*t)\n",
    "plt.plot(t, s)\n",
    "\n",
    "plt.xlabel('time (s)')\n",
    "plt.ylabel('voltage (mV)')\n",
    "plt.title('About as simple as it gets, folks')\n",
    "plt.grid(True)\n"
   ]
  }
 ],
 "metadata": {
  "kernelspec": {
   "display_name": "Python 3",
   "language": "python",
   "name": "python3"
  },
  "language_info": {
   "codemirror_mode": {
    "name": "ipython",
    "version": 3
   },
   "file_extension": ".py",
   "mimetype": "text/x-python",
   "name": "python",
   "nbconvert_exporter": "python",
   "pygments_lexer": "ipython3",
   "version": "3.5.3"
  }
 },
 "nbformat": 4,
 "nbformat_minor": 2
}
